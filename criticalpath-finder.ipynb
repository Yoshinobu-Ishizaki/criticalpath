{
 "cells": [
  {
   "cell_type": "markdown",
   "metadata": {},
   "source": [
    "# Finding critical path from transition matrix."
   ]
  },
  {
   "cell_type": "markdown",
   "metadata": {},
   "source": [
    "## Completed code version"
   ]
  },
  {
   "cell_type": "code",
   "execution_count": 177,
   "metadata": {},
   "outputs": [],
   "source": [
    "using XLSX\n",
    "using DataFrames"
   ]
  },
  {
   "cell_type": "markdown",
   "metadata": {},
   "source": [
    "Read distance definition table from Excel.\n",
    "This data is essentially same as example-path1.xlsx except starting and ending points name are different."
   ]
  },
  {
   "cell_type": "code",
   "execution_count": 179,
   "metadata": {},
   "outputs": [
    {
     "data": {
      "text/html": [
       "<table class=\"data-frame\"><thead><tr><th></th><th>src</th><th>dst</th><th>value</th></tr><tr><th></th><th>Any</th><th>Any</th><th>Any</th></tr></thead><tbody><p>19 rows × 3 columns</p><tr><th>1</th><td>z</td><td>b</td><td>3</td></tr><tr><th>2</th><td>z</td><td>c</td><td>2</td></tr><tr><th>3</th><td>z</td><td>e</td><td>9</td></tr><tr><th>4</th><td>b</td><td>d</td><td>2</td></tr><tr><th>5</th><td>b</td><td>e</td><td>4</td></tr><tr><th>6</th><td>c</td><td>e</td><td>6</td></tr><tr><th>7</th><td>c</td><td>f</td><td>9</td></tr><tr><th>8</th><td>d</td><td>g</td><td>3</td></tr><tr><th>9</th><td>e</td><td>g</td><td>1</td></tr><tr><th>10</th><td>e</td><td>h</td><td>2</td></tr><tr><th>11</th><td>f</td><td>h</td><td>1</td></tr><tr><th>12</th><td>f</td><td>i</td><td>2</td></tr><tr><th>13</th><td>g</td><td>j</td><td>5</td></tr><tr><th>14</th><td>h</td><td>j</td><td>5</td></tr><tr><th>15</th><td>h</td><td>EP</td><td>9</td></tr><tr><th>16</th><td>h</td><td>k</td><td>6</td></tr><tr><th>17</th><td>i</td><td>k</td><td>2</td></tr><tr><th>18</th><td>k</td><td>EP</td><td>3</td></tr><tr><th>19</th><td>j</td><td>EP</td><td>5</td></tr></tbody></table>"
      ],
      "text/latex": [
       "\\begin{tabular}{r|ccc}\n",
       "\t& src & dst & value\\\\\n",
       "\t\\hline\n",
       "\t& Any & Any & Any\\\\\n",
       "\t\\hline\n",
       "\t1 & z & b & 3 \\\\\n",
       "\t2 & z & c & 2 \\\\\n",
       "\t3 & z & e & 9 \\\\\n",
       "\t4 & b & d & 2 \\\\\n",
       "\t5 & b & e & 4 \\\\\n",
       "\t6 & c & e & 6 \\\\\n",
       "\t7 & c & f & 9 \\\\\n",
       "\t8 & d & g & 3 \\\\\n",
       "\t9 & e & g & 1 \\\\\n",
       "\t10 & e & h & 2 \\\\\n",
       "\t11 & f & h & 1 \\\\\n",
       "\t12 & f & i & 2 \\\\\n",
       "\t13 & g & j & 5 \\\\\n",
       "\t14 & h & j & 5 \\\\\n",
       "\t15 & h & EP & 9 \\\\\n",
       "\t16 & h & k & 6 \\\\\n",
       "\t17 & i & k & 2 \\\\\n",
       "\t18 & k & EP & 3 \\\\\n",
       "\t19 & j & EP & 5 \\\\\n",
       "\\end{tabular}\n"
      ],
      "text/plain": [
       "19×3 DataFrame\n",
       "│ Row │ src │ dst │ value │\n",
       "│     │ \u001b[90mAny\u001b[39m │ \u001b[90mAny\u001b[39m │ \u001b[90mAny\u001b[39m   │\n",
       "├─────┼─────┼─────┼───────┤\n",
       "│ 1   │ z   │ b   │ 3     │\n",
       "│ 2   │ z   │ c   │ 2     │\n",
       "│ 3   │ z   │ e   │ 9     │\n",
       "│ 4   │ b   │ d   │ 2     │\n",
       "│ 5   │ b   │ e   │ 4     │\n",
       "│ 6   │ c   │ e   │ 6     │\n",
       "│ 7   │ c   │ f   │ 9     │\n",
       "│ 8   │ d   │ g   │ 3     │\n",
       "│ 9   │ e   │ g   │ 1     │\n",
       "│ 10  │ e   │ h   │ 2     │\n",
       "│ 11  │ f   │ h   │ 1     │\n",
       "│ 12  │ f   │ i   │ 2     │\n",
       "│ 13  │ g   │ j   │ 5     │\n",
       "│ 14  │ h   │ j   │ 5     │\n",
       "│ 15  │ h   │ EP  │ 9     │\n",
       "│ 16  │ h   │ k   │ 6     │\n",
       "│ 17  │ i   │ k   │ 2     │\n",
       "│ 18  │ k   │ EP  │ 3     │\n",
       "│ 19  │ j   │ EP  │ 5     │"
      ]
     },
     "execution_count": 179,
     "metadata": {},
     "output_type": "execute_result"
    }
   ],
   "source": [
    "dd = DataFrame(XLSX.readtable(\"example-path2.xlsx\",1)...)"
   ]
  },
  {
   "cell_type": "markdown",
   "metadata": {},
   "source": [
    "Find starting nodes appeared in definition table."
   ]
  },
  {
   "cell_type": "code",
   "execution_count": 180,
   "metadata": {},
   "outputs": [
    {
     "data": {
      "text/plain": [
       "11-element Array{Any,1}:\n",
       " \"z\"\n",
       " \"b\"\n",
       " \"c\"\n",
       " \"d\"\n",
       " \"e\"\n",
       " \"f\"\n",
       " \"g\"\n",
       " \"h\"\n",
       " \"i\"\n",
       " \"k\"\n",
       " \"j\""
      ]
     },
     "execution_count": 180,
     "metadata": {},
     "output_type": "execute_result"
    }
   ],
   "source": [
    "s = unique(dd.src)"
   ]
  },
  {
   "cell_type": "markdown",
   "metadata": {},
   "source": [
    "Ending nodes of table."
   ]
  },
  {
   "cell_type": "code",
   "execution_count": 181,
   "metadata": {},
   "outputs": [
    {
     "data": {
      "text/plain": [
       "11-element Array{Any,1}:\n",
       " \"b\"\n",
       " \"c\"\n",
       " \"e\"\n",
       " \"d\"\n",
       " \"f\"\n",
       " \"g\"\n",
       " \"h\"\n",
       " \"i\"\n",
       " \"j\"\n",
       " \"EP\"\n",
       " \"k\""
      ]
     },
     "execution_count": 181,
     "metadata": {},
     "output_type": "execute_result"
    }
   ],
   "source": [
    "e = unique(dd.dst)"
   ]
  },
  {
   "cell_type": "markdown",
   "metadata": {},
   "source": [
    "Find unique starting vertex."
   ]
  },
  {
   "cell_type": "code",
   "execution_count": 182,
   "metadata": {},
   "outputs": [
    {
     "data": {
      "text/plain": [
       "1-element Array{String,1}:\n",
       " \"z\""
      ]
     },
     "execution_count": 182,
     "metadata": {},
     "output_type": "execute_result"
    }
   ],
   "source": [
    "startp = [x for x in s if !(x in e)]"
   ]
  },
  {
   "cell_type": "markdown",
   "metadata": {},
   "source": [
    "And end vertex."
   ]
  },
  {
   "cell_type": "code",
   "execution_count": 183,
   "metadata": {},
   "outputs": [
    {
     "data": {
      "text/plain": [
       "1-element Array{String,1}:\n",
       " \"EP\""
      ]
     },
     "execution_count": 183,
     "metadata": {},
     "output_type": "execute_result"
    }
   ],
   "source": [
    "endp = [x for x in e if !(x in s)]"
   ]
  },
  {
   "cell_type": "markdown",
   "metadata": {},
   "source": [
    "Error check.\n",
    "Starting point and ending point must be one."
   ]
  },
  {
   "cell_type": "code",
   "execution_count": 184,
   "metadata": {},
   "outputs": [],
   "source": [
    "if length(startp) > 1 \n",
    "    println(\"multiple start point : \", startp)\n",
    "end\n",
    "\n",
    "if length(endp) > 1\n",
    "    println(\"multiple end point : \", endp)\n",
    "end"
   ]
  },
  {
   "cell_type": "markdown",
   "metadata": {},
   "source": [
    "Valid starting and ending vertex."
   ]
  },
  {
   "cell_type": "code",
   "execution_count": 185,
   "metadata": {},
   "outputs": [],
   "source": [
    "sp = startp[1]\n",
    "ep = endp[1];"
   ]
  },
  {
   "cell_type": "markdown",
   "metadata": {},
   "source": [
    "All vertices. Ensure that first and end point locates at same position of list respectively."
   ]
  },
  {
   "cell_type": "code",
   "execution_count": 186,
   "metadata": {},
   "outputs": [
    {
     "data": {
      "text/plain": [
       "12-element Array{Any,1}:\n",
       " \"z\"\n",
       " \"b\"\n",
       " \"c\"\n",
       " \"d\"\n",
       " \"e\"\n",
       " \"f\"\n",
       " \"g\"\n",
       " \"h\"\n",
       " \"i\"\n",
       " \"k\"\n",
       " \"j\"\n",
       " \"EP\""
      ]
     },
     "execution_count": 186,
     "metadata": {},
     "output_type": "execute_result"
    }
   ],
   "source": [
    "allp = setdiff(union(s,e), [sp,ep])\n",
    "pushfirst!(allp,sp)\n",
    "push!(allp,ep)\n",
    "allp"
   ]
  },
  {
   "cell_type": "markdown",
   "metadata": {},
   "source": [
    "Make a dictionary that connects name of vertices and its index."
   ]
  },
  {
   "cell_type": "code",
   "execution_count": 188,
   "metadata": {},
   "outputs": [
    {
     "data": {
      "text/plain": [
       "Dict{String,Int64} with 12 entries:\n",
       "  \"f\"  => 6\n",
       "  \"c\"  => 3\n",
       "  \"e\"  => 5\n",
       "  \"b\"  => 2\n",
       "  \"h\"  => 8\n",
       "  \"z\"  => 1\n",
       "  \"i\"  => 9\n",
       "  \"d\"  => 4\n",
       "  \"g\"  => 7\n",
       "  \"EP\" => 12\n",
       "  \"k\"  => 10\n",
       "  \"j\"  => 11"
      ]
     },
     "execution_count": 188,
     "metadata": {},
     "output_type": "execute_result"
    }
   ],
   "source": [
    "dct = Dict(allp[i] => i for i = 1:length(allp))"
   ]
  },
  {
   "cell_type": "markdown",
   "metadata": {},
   "source": [
    "Number of vertices."
   ]
  },
  {
   "cell_type": "code",
   "execution_count": 189,
   "metadata": {},
   "outputs": [
    {
     "data": {
      "text/plain": [
       "12"
      ]
     },
     "execution_count": 189,
     "metadata": {},
     "output_type": "execute_result"
    }
   ],
   "source": [
    "nn = length(allp)"
   ]
  },
  {
   "cell_type": "markdown",
   "metadata": {},
   "source": [
    "Transition pairs."
   ]
  },
  {
   "cell_type": "code",
   "execution_count": 190,
   "metadata": {},
   "outputs": [
    {
     "data": {
      "text/plain": [
       "19-element Array{Tuple{Int64,Int64},1}:\n",
       " (1, 2)\n",
       " (1, 3)\n",
       " (1, 5)\n",
       " (2, 4)\n",
       " (2, 5)\n",
       " (3, 5)\n",
       " (3, 6)\n",
       " (4, 7)\n",
       " (5, 7)\n",
       " (5, 8)\n",
       " (6, 8)\n",
       " (6, 9)\n",
       " (7, 11)\n",
       " (8, 11)\n",
       " (8, 12)\n",
       " (8, 10)\n",
       " (9, 10)\n",
       " (10, 12)\n",
       " (11, 12)"
      ]
     },
     "execution_count": 190,
     "metadata": {},
     "output_type": "execute_result"
    }
   ],
   "source": [
    "prs = [(dct[x], dct[y]) for (x,y) in zip(dd.src,dd.dst)]"
   ]
  },
  {
   "cell_type": "markdown",
   "metadata": {},
   "source": [
    "Create distance matrix for each vertices."
   ]
  },
  {
   "cell_type": "code",
   "execution_count": 191,
   "metadata": {},
   "outputs": [],
   "source": [
    "dm = zeros(Float64,(nn,nn))\n",
    "\n",
    "for i = 1:length(prs)\n",
    "    a,b = prs[i]\n",
    "    v = dd.value[i]\n",
    "    dm[a,b] = v\n",
    "end"
   ]
  },
  {
   "cell_type": "code",
   "execution_count": 192,
   "metadata": {},
   "outputs": [
    {
     "data": {
      "text/plain": [
       "12×12 Array{Float64,2}:\n",
       " 0.0  3.0  2.0  0.0  9.0  0.0  0.0  0.0  0.0  0.0  0.0  0.0\n",
       " 0.0  0.0  0.0  2.0  4.0  0.0  0.0  0.0  0.0  0.0  0.0  0.0\n",
       " 0.0  0.0  0.0  0.0  6.0  9.0  0.0  0.0  0.0  0.0  0.0  0.0\n",
       " 0.0  0.0  0.0  0.0  0.0  0.0  3.0  0.0  0.0  0.0  0.0  0.0\n",
       " 0.0  0.0  0.0  0.0  0.0  0.0  1.0  2.0  0.0  0.0  0.0  0.0\n",
       " 0.0  0.0  0.0  0.0  0.0  0.0  0.0  1.0  2.0  0.0  0.0  0.0\n",
       " 0.0  0.0  0.0  0.0  0.0  0.0  0.0  0.0  0.0  0.0  5.0  0.0\n",
       " 0.0  0.0  0.0  0.0  0.0  0.0  0.0  0.0  0.0  6.0  5.0  9.0\n",
       " 0.0  0.0  0.0  0.0  0.0  0.0  0.0  0.0  0.0  2.0  0.0  0.0\n",
       " 0.0  0.0  0.0  0.0  0.0  0.0  0.0  0.0  0.0  0.0  0.0  3.0\n",
       " 0.0  0.0  0.0  0.0  0.0  0.0  0.0  0.0  0.0  0.0  0.0  5.0\n",
       " 0.0  0.0  0.0  0.0  0.0  0.0  0.0  0.0  0.0  0.0  0.0  0.0"
      ]
     },
     "execution_count": 192,
     "metadata": {},
     "output_type": "execute_result"
    }
   ],
   "source": [
    "dm"
   ]
  },
  {
   "cell_type": "markdown",
   "metadata": {},
   "source": [
    "Critical path find function."
   ]
  },
  {
   "cell_type": "code",
   "execution_count": 193,
   "metadata": {},
   "outputs": [
    {
     "data": {
      "text/plain": [
       "critical_path (generic function with 1 method)"
      ]
     },
     "execution_count": 193,
     "metadata": {},
     "output_type": "execute_result"
    }
   ],
   "source": [
    "function critical_path(pth, xm)\n",
    "    r,c = size(xm)\n",
    "    \n",
    "    tt = Tuple{Int64,Int64}[]\n",
    "    vals = [0.0 for i = 1:r]\n",
    "\n",
    "    for x in pth\n",
    "        a,b = x\n",
    "        vd = xm[x...]\n",
    "        v0 = vals[a]\n",
    "\n",
    "        v = v0 + vd\n",
    "        if v > vals[b]\n",
    "            vals[b] = v\n",
    "            push!(tt,x)\n",
    "        end\n",
    "    end\n",
    "\n",
    "    vals, tt\n",
    "end"
   ]
  },
  {
   "cell_type": "code",
   "execution_count": 194,
   "metadata": {},
   "outputs": [
    {
     "data": {
      "text/plain": [
       "([0.0, 3.0, 2.0, 5.0, 9.0, 11.0, 10.0, 12.0, 13.0, 18.0, 17.0, 22.0], [(1, 2), (1, 3), (1, 5), (2, 4), (3, 6), (4, 7), (5, 7), (5, 8), (6, 8), (6, 9), (7, 11), (8, 11), (8, 12), (8, 10), (11, 12)])"
      ]
     },
     "execution_count": 194,
     "metadata": {},
     "output_type": "execute_result"
    }
   ],
   "source": [
    "vs, pp = critical_path(prs, dm)"
   ]
  },
  {
   "cell_type": "code",
   "execution_count": 195,
   "metadata": {},
   "outputs": [
    {
     "data": {
      "text/plain": [
       "shrink_path (generic function with 1 method)"
      ]
     },
     "execution_count": 195,
     "metadata": {},
     "output_type": "execute_result"
    }
   ],
   "source": [
    "function shrink_path(pth)\n",
    "    vv = copy(pth)\n",
    "    a,b = vv[end]\n",
    "\n",
    "    t = [(a,b)]\n",
    "    \n",
    "    while a > 1\n",
    "        a2, b2 = pop!(vv)\n",
    "        if b2 == a\n",
    "            push!(t, (a2,b2))\n",
    "            a,b = a2,b2\n",
    "        end\n",
    "    end\n",
    "    \n",
    "    reverse(t)\n",
    "end     "
   ]
  },
  {
   "cell_type": "code",
   "execution_count": 196,
   "metadata": {},
   "outputs": [
    {
     "data": {
      "text/plain": [
       "5-element Array{Tuple{Int64,Int64},1}:\n",
       " (1, 3)\n",
       " (3, 6)\n",
       " (6, 8)\n",
       " (8, 11)\n",
       " (11, 12)"
      ]
     },
     "execution_count": 196,
     "metadata": {},
     "output_type": "execute_result"
    }
   ],
   "source": [
    "ps = shrink_path(pp)"
   ]
  },
  {
   "cell_type": "markdown",
   "metadata": {},
   "source": [
    "Path list"
   ]
  },
  {
   "cell_type": "code",
   "execution_count": 198,
   "metadata": {},
   "outputs": [
    {
     "data": {
      "text/plain": [
       "6-element Array{Int64,1}:\n",
       "  1\n",
       "  3\n",
       "  6\n",
       "  8\n",
       " 11\n",
       " 12"
      ]
     },
     "execution_count": 198,
     "metadata": {},
     "output_type": "execute_result"
    }
   ],
   "source": [
    "plst = vcat([1], last.(ps))"
   ]
  },
  {
   "cell_type": "markdown",
   "metadata": {},
   "source": [
    "Names of path."
   ]
  },
  {
   "cell_type": "code",
   "execution_count": 204,
   "metadata": {},
   "outputs": [
    {
     "data": {
      "text/plain": [
       "get_key (generic function with 1 method)"
      ]
     },
     "execution_count": 204,
     "metadata": {},
     "output_type": "execute_result"
    }
   ],
   "source": [
    "function get_key(d,v0)\n",
    "    for (k,v) in d\n",
    "        if v == v0\n",
    "            return k\n",
    "        end\n",
    "    end\n",
    "end\n",
    "\n"
   ]
  },
  {
   "cell_type": "code",
   "execution_count": 207,
   "metadata": {},
   "outputs": [
    {
     "data": {
      "text/plain": [
       "6-element Array{String,1}:\n",
       " \"z\"\n",
       " \"c\"\n",
       " \"f\"\n",
       " \"h\"\n",
       " \"j\"\n",
       " \"EP\""
      ]
     },
     "execution_count": 207,
     "metadata": {},
     "output_type": "execute_result"
    }
   ],
   "source": [
    "pn = [get_key(dct, x) for x in plst]"
   ]
  },
  {
   "cell_type": "code",
   "execution_count": null,
   "metadata": {},
   "outputs": [],
   "source": []
  }
 ],
 "metadata": {
  "kernelspec": {
   "display_name": "Julia 1.5.0",
   "language": "julia",
   "name": "julia-1.5"
  },
  "language_info": {
   "file_extension": ".jl",
   "mimetype": "application/julia",
   "name": "julia",
   "version": "1.5.0"
  }
 },
 "nbformat": 4,
 "nbformat_minor": 4
}
