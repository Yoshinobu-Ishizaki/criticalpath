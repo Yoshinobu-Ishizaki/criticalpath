{
 "cells": [
  {
   "cell_type": "markdown",
   "metadata": {},
   "source": [
    "# Finding critical path from transition matrix."
   ]
  },
  {
   "cell_type": "code",
   "execution_count": 1,
   "metadata": {},
   "outputs": [],
   "source": [
    "using JuMP, GLPK, XLSX\n",
    "using DataFrames, DataFramesMeta\n",
    "using Plots, GR"
   ]
  },
  {
   "cell_type": "markdown",
   "metadata": {},
   "source": [
    "Read distance definition table from Excel."
   ]
  },
  {
   "cell_type": "code",
   "execution_count": 2,
   "metadata": {},
   "outputs": [
    {
     "data": {
      "text/html": [
       "<table class=\"data-frame\"><thead><tr><th></th><th>src</th><th>dst</th><th>value</th></tr><tr><th></th><th>Any</th><th>Any</th><th>Any</th></tr></thead><tbody><p>19 rows × 3 columns</p><tr><th>1</th><td>a</td><td>b</td><td>3</td></tr><tr><th>2</th><td>a</td><td>c</td><td>2</td></tr><tr><th>3</th><td>a</td><td>e</td><td>9</td></tr><tr><th>4</th><td>b</td><td>d</td><td>2</td></tr><tr><th>5</th><td>b</td><td>e</td><td>4</td></tr><tr><th>6</th><td>c</td><td>e</td><td>6</td></tr><tr><th>7</th><td>c</td><td>f</td><td>9</td></tr><tr><th>8</th><td>d</td><td>g</td><td>3</td></tr><tr><th>9</th><td>e</td><td>g</td><td>1</td></tr><tr><th>10</th><td>e</td><td>h</td><td>2</td></tr><tr><th>11</th><td>f</td><td>h</td><td>1</td></tr><tr><th>12</th><td>f</td><td>i</td><td>2</td></tr><tr><th>13</th><td>g</td><td>j</td><td>5</td></tr><tr><th>14</th><td>h</td><td>j</td><td>5</td></tr><tr><th>15</th><td>h</td><td>l</td><td>9</td></tr><tr><th>16</th><td>h</td><td>k</td><td>6</td></tr><tr><th>17</th><td>i</td><td>k</td><td>2</td></tr><tr><th>18</th><td>k</td><td>l</td><td>3</td></tr><tr><th>19</th><td>j</td><td>l</td><td>5</td></tr></tbody></table>"
      ],
      "text/latex": [
       "\\begin{tabular}{r|ccc}\n",
       "\t& src & dst & value\\\\\n",
       "\t\\hline\n",
       "\t& Any & Any & Any\\\\\n",
       "\t\\hline\n",
       "\t1 & a & b & 3 \\\\\n",
       "\t2 & a & c & 2 \\\\\n",
       "\t3 & a & e & 9 \\\\\n",
       "\t4 & b & d & 2 \\\\\n",
       "\t5 & b & e & 4 \\\\\n",
       "\t6 & c & e & 6 \\\\\n",
       "\t7 & c & f & 9 \\\\\n",
       "\t8 & d & g & 3 \\\\\n",
       "\t9 & e & g & 1 \\\\\n",
       "\t10 & e & h & 2 \\\\\n",
       "\t11 & f & h & 1 \\\\\n",
       "\t12 & f & i & 2 \\\\\n",
       "\t13 & g & j & 5 \\\\\n",
       "\t14 & h & j & 5 \\\\\n",
       "\t15 & h & l & 9 \\\\\n",
       "\t16 & h & k & 6 \\\\\n",
       "\t17 & i & k & 2 \\\\\n",
       "\t18 & k & l & 3 \\\\\n",
       "\t19 & j & l & 5 \\\\\n",
       "\\end{tabular}\n"
      ],
      "text/plain": [
       "19×3 DataFrame\n",
       "│ Row │ src │ dst │ value │\n",
       "│     │ \u001b[90mAny\u001b[39m │ \u001b[90mAny\u001b[39m │ \u001b[90mAny\u001b[39m   │\n",
       "├─────┼─────┼─────┼───────┤\n",
       "│ 1   │ a   │ b   │ 3     │\n",
       "│ 2   │ a   │ c   │ 2     │\n",
       "│ 3   │ a   │ e   │ 9     │\n",
       "│ 4   │ b   │ d   │ 2     │\n",
       "│ 5   │ b   │ e   │ 4     │\n",
       "│ 6   │ c   │ e   │ 6     │\n",
       "│ 7   │ c   │ f   │ 9     │\n",
       "│ 8   │ d   │ g   │ 3     │\n",
       "│ 9   │ e   │ g   │ 1     │\n",
       "│ 10  │ e   │ h   │ 2     │\n",
       "│ 11  │ f   │ h   │ 1     │\n",
       "│ 12  │ f   │ i   │ 2     │\n",
       "│ 13  │ g   │ j   │ 5     │\n",
       "│ 14  │ h   │ j   │ 5     │\n",
       "│ 15  │ h   │ l   │ 9     │\n",
       "│ 16  │ h   │ k   │ 6     │\n",
       "│ 17  │ i   │ k   │ 2     │\n",
       "│ 18  │ k   │ l   │ 3     │\n",
       "│ 19  │ j   │ l   │ 5     │"
      ]
     },
     "execution_count": 2,
     "metadata": {},
     "output_type": "execute_result"
    }
   ],
   "source": [
    "dd = DataFrame(XLSX.readtable(\"example-path1.xlsx\",1)...)"
   ]
  },
  {
   "cell_type": "markdown",
   "metadata": {},
   "source": [
    "Find starting nodes appeared in definition table."
   ]
  },
  {
   "cell_type": "code",
   "execution_count": 167,
   "metadata": {},
   "outputs": [
    {
     "data": {
      "text/plain": [
       "11-element Array{Any,1}:\n",
       " \"a\"\n",
       " \"b\"\n",
       " \"c\"\n",
       " \"d\"\n",
       " \"e\"\n",
       " \"f\"\n",
       " \"g\"\n",
       " \"h\"\n",
       " \"i\"\n",
       " \"k\"\n",
       " \"j\""
      ]
     },
     "execution_count": 167,
     "metadata": {},
     "output_type": "execute_result"
    }
   ],
   "source": [
    "s = unique(dd.src)"
   ]
  },
  {
   "cell_type": "markdown",
   "metadata": {},
   "source": [
    "Ending nodes of table."
   ]
  },
  {
   "cell_type": "code",
   "execution_count": 168,
   "metadata": {},
   "outputs": [
    {
     "data": {
      "text/plain": [
       "11-element Array{Any,1}:\n",
       " \"b\"\n",
       " \"c\"\n",
       " \"e\"\n",
       " \"d\"\n",
       " \"f\"\n",
       " \"g\"\n",
       " \"h\"\n",
       " \"i\"\n",
       " \"j\"\n",
       " \"l\"\n",
       " \"k\""
      ]
     },
     "execution_count": 168,
     "metadata": {},
     "output_type": "execute_result"
    }
   ],
   "source": [
    "e = unique(dd.dst)"
   ]
  },
  {
   "cell_type": "markdown",
   "metadata": {},
   "source": [
    "Find unique starting vertex."
   ]
  },
  {
   "cell_type": "code",
   "execution_count": 169,
   "metadata": {},
   "outputs": [
    {
     "data": {
      "text/plain": [
       "1-element Array{String,1}:\n",
       " \"a\""
      ]
     },
     "execution_count": 169,
     "metadata": {},
     "output_type": "execute_result"
    }
   ],
   "source": [
    "startp = [x for x in s if !(x in e)]"
   ]
  },
  {
   "cell_type": "markdown",
   "metadata": {},
   "source": [
    "And end vertex."
   ]
  },
  {
   "cell_type": "code",
   "execution_count": 170,
   "metadata": {},
   "outputs": [
    {
     "data": {
      "text/plain": [
       "1-element Array{String,1}:\n",
       " \"l\""
      ]
     },
     "execution_count": 170,
     "metadata": {},
     "output_type": "execute_result"
    }
   ],
   "source": [
    "endp = [x for x in e if !(x in s)]"
   ]
  },
  {
   "cell_type": "markdown",
   "metadata": {},
   "source": [
    "Error check.\n",
    "Starting point and ending point must be one."
   ]
  },
  {
   "cell_type": "code",
   "execution_count": 171,
   "metadata": {},
   "outputs": [],
   "source": [
    "if length(startp) > 1 \n",
    "    println(\"multiple start point : \", startp)\n",
    "end\n",
    "\n",
    "if length(endp) > 1\n",
    "    println(\"multiple end point : \", endp)\n",
    "end"
   ]
  },
  {
   "cell_type": "markdown",
   "metadata": {},
   "source": [
    "Valid starting and ending vertex."
   ]
  },
  {
   "cell_type": "code",
   "execution_count": 172,
   "metadata": {},
   "outputs": [],
   "source": [
    "sp = startp[1]\n",
    "ep = endp[1];"
   ]
  },
  {
   "cell_type": "markdown",
   "metadata": {},
   "source": [
    "All vertices. Ensure that first and end point locates at same position of list respectively."
   ]
  },
  {
   "cell_type": "code",
   "execution_count": 176,
   "metadata": {},
   "outputs": [
    {
     "data": {
      "text/plain": [
       "12-element Array{Any,1}:\n",
       " \"a\"\n",
       " \"b\"\n",
       " \"c\"\n",
       " \"d\"\n",
       " \"e\"\n",
       " \"f\"\n",
       " \"g\"\n",
       " \"h\"\n",
       " \"i\"\n",
       " \"k\"\n",
       " \"j\"\n",
       " \"l\""
      ]
     },
     "execution_count": 176,
     "metadata": {},
     "output_type": "execute_result"
    }
   ],
   "source": [
    "allp = setdiff(union(s,e), [sp,ep])\n",
    "pushfirst!(allp,sp)\n",
    "push!(allp,ep)\n",
    "allp"
   ]
  },
  {
   "cell_type": "markdown",
   "metadata": {},
   "source": [
    "Make a dictionary that connects name of vertices and its index."
   ]
  },
  {
   "cell_type": "code",
   "execution_count": 10,
   "metadata": {},
   "outputs": [
    {
     "data": {
      "text/plain": [
       "Dict{String,Int64} with 12 entries:\n",
       "  \"f\" => 6\n",
       "  \"c\" => 3\n",
       "  \"e\" => 5\n",
       "  \"b\" => 2\n",
       "  \"a\" => 1\n",
       "  \"h\" => 8\n",
       "  \"i\" => 9\n",
       "  \"d\" => 4\n",
       "  \"g\" => 7\n",
       "  \"j\" => 10\n",
       "  \"k\" => 11\n",
       "  \"l\" => 12"
      ]
     },
     "execution_count": 10,
     "metadata": {},
     "output_type": "execute_result"
    }
   ],
   "source": [
    "dct = Dict(rest[i] => i for i = 1:length(allp))"
   ]
  },
  {
   "cell_type": "markdown",
   "metadata": {},
   "source": [
    "Number of vertices."
   ]
  },
  {
   "cell_type": "code",
   "execution_count": 11,
   "metadata": {},
   "outputs": [
    {
     "data": {
      "text/plain": [
       "12"
      ]
     },
     "execution_count": 11,
     "metadata": {},
     "output_type": "execute_result"
    }
   ],
   "source": [
    "nn = length(allp)"
   ]
  },
  {
   "cell_type": "markdown",
   "metadata": {},
   "source": [
    "Transition pairs."
   ]
  },
  {
   "cell_type": "code",
   "execution_count": 107,
   "metadata": {},
   "outputs": [
    {
     "data": {
      "text/plain": [
       "19-element Array{Tuple{Int64,Int64},1}:\n",
       " (1, 2)\n",
       " (1, 3)\n",
       " (1, 5)\n",
       " (2, 4)\n",
       " (2, 5)\n",
       " (3, 5)\n",
       " (3, 6)\n",
       " (4, 7)\n",
       " (5, 7)\n",
       " (5, 8)\n",
       " (6, 8)\n",
       " (6, 9)\n",
       " (7, 10)\n",
       " (8, 10)\n",
       " (8, 12)\n",
       " (8, 11)\n",
       " (9, 11)\n",
       " (11, 12)\n",
       " (10, 12)"
      ]
     },
     "execution_count": 107,
     "metadata": {},
     "output_type": "execute_result"
    }
   ],
   "source": [
    "prs = [(dct[x], dct[y]) for (x,y) in zip(dd.src,dd.dst)]"
   ]
  },
  {
   "cell_type": "markdown",
   "metadata": {},
   "source": [
    "Create distance matrix for each vertices."
   ]
  },
  {
   "cell_type": "code",
   "execution_count": 113,
   "metadata": {},
   "outputs": [],
   "source": [
    "dm = zeros(Float64,(nn,nn))\n",
    "\n",
    "for i = 1:length(prs)\n",
    "    a,b = prs[i]\n",
    "    v = dd.value[i]\n",
    "    dm[a,b] = v\n",
    "end"
   ]
  },
  {
   "cell_type": "code",
   "execution_count": 114,
   "metadata": {},
   "outputs": [
    {
     "data": {
      "text/plain": [
       "12×12 Array{Float64,2}:\n",
       " 0.0  3.0  2.0  0.0  9.0  0.0  0.0  0.0  0.0  0.0  0.0  0.0\n",
       " 0.0  0.0  0.0  2.0  4.0  0.0  0.0  0.0  0.0  0.0  0.0  0.0\n",
       " 0.0  0.0  0.0  0.0  6.0  9.0  0.0  0.0  0.0  0.0  0.0  0.0\n",
       " 0.0  0.0  0.0  0.0  0.0  0.0  3.0  0.0  0.0  0.0  0.0  0.0\n",
       " 0.0  0.0  0.0  0.0  0.0  0.0  1.0  2.0  0.0  0.0  0.0  0.0\n",
       " 0.0  0.0  0.0  0.0  0.0  0.0  0.0  1.0  2.0  0.0  0.0  0.0\n",
       " 0.0  0.0  0.0  0.0  0.0  0.0  0.0  0.0  0.0  5.0  0.0  0.0\n",
       " 0.0  0.0  0.0  0.0  0.0  0.0  0.0  0.0  0.0  5.0  6.0  9.0\n",
       " 0.0  0.0  0.0  0.0  0.0  0.0  0.0  0.0  0.0  0.0  2.0  0.0\n",
       " 0.0  0.0  0.0  0.0  0.0  0.0  0.0  0.0  0.0  0.0  0.0  5.0\n",
       " 0.0  0.0  0.0  0.0  0.0  0.0  0.0  0.0  0.0  0.0  0.0  3.0\n",
       " 0.0  0.0  0.0  0.0  0.0  0.0  0.0  0.0  0.0  0.0  0.0  0.0"
      ]
     },
     "execution_count": 114,
     "metadata": {},
     "output_type": "execute_result"
    }
   ],
   "source": [
    "dm"
   ]
  },
  {
   "cell_type": "markdown",
   "metadata": {},
   "source": [
    "Critical path find function."
   ]
  },
  {
   "cell_type": "code",
   "execution_count": 160,
   "metadata": {},
   "outputs": [
    {
     "data": {
      "text/plain": [
       "critical_path (generic function with 1 method)"
      ]
     },
     "execution_count": 160,
     "metadata": {},
     "output_type": "execute_result"
    }
   ],
   "source": [
    "function critical_path(pth, xm)\n",
    "    r,c = size(xm)\n",
    "    \n",
    "    tt = Tuple{Int64,Int64}[]\n",
    "    vals = [0.0 for i = 1:r]\n",
    "\n",
    "    for x in pth\n",
    "        a,b = x\n",
    "        vd = xm[x...]\n",
    "        v0 = vals[a]\n",
    "\n",
    "        v = v0 + vd\n",
    "        if v > vals[b]\n",
    "            vals[b] = v\n",
    "            push!(tt,x)\n",
    "        end\n",
    "    end\n",
    "\n",
    "    vals, tt\n",
    "end"
   ]
  },
  {
   "cell_type": "code",
   "execution_count": 162,
   "metadata": {},
   "outputs": [
    {
     "data": {
      "text/plain": [
       "([0.0, 3.0, 2.0, 5.0, 9.0, 11.0, 10.0, 12.0, 13.0, 17.0, 18.0, 22.0], [(1, 2), (1, 3), (1, 5), (2, 4), (3, 6), (4, 7), (5, 7), (5, 8), (6, 8), (6, 9), (7, 10), (8, 10), (8, 12), (8, 11), (10, 12)])"
      ]
     },
     "execution_count": 162,
     "metadata": {},
     "output_type": "execute_result"
    }
   ],
   "source": [
    "vs, pp = critical_path(prs, dm)"
   ]
  },
  {
   "cell_type": "code",
   "execution_count": 164,
   "metadata": {},
   "outputs": [
    {
     "data": {
      "text/plain": [
       "shrink_path (generic function with 1 method)"
      ]
     },
     "execution_count": 164,
     "metadata": {},
     "output_type": "execute_result"
    }
   ],
   "source": [
    "function shrink_path(pth)\n",
    "    vv = copy(pth)\n",
    "    a,b = vv[end]\n",
    "\n",
    "    t = [(a,b)]\n",
    "    \n",
    "    while a > 1\n",
    "        a2, b2 = pop!(vv)\n",
    "        if b2 == a\n",
    "            push!(t, (a2,b2))\n",
    "            a,b = a2,b2\n",
    "        end\n",
    "    end\n",
    "    \n",
    "    reverse(t)\n",
    "end     "
   ]
  },
  {
   "cell_type": "code",
   "execution_count": 165,
   "metadata": {},
   "outputs": [
    {
     "data": {
      "text/plain": [
       "5-element Array{Tuple{Int64,Int64},1}:\n",
       " (1, 3)\n",
       " (3, 6)\n",
       " (6, 8)\n",
       " (8, 10)\n",
       " (10, 12)"
      ]
     },
     "execution_count": 165,
     "metadata": {},
     "output_type": "execute_result"
    }
   ],
   "source": [
    "shrink_path(pp)"
   ]
  },
  {
   "cell_type": "markdown",
   "metadata": {},
   "source": [
    "## Trial JuMP (not work well)"
   ]
  },
  {
   "cell_type": "code",
   "execution_count": 13,
   "metadata": {},
   "outputs": [],
   "source": [
    "dm = zeros(Float64,(rr,rr))\n",
    "\n",
    "for x in eachrow(dd)\n",
    "    s = dct[x.src]\n",
    "    e = dct[x.dst]\n",
    "    v = x.value\n",
    "    dm[s,e-1] = v\n",
    "end"
   ]
  },
  {
   "cell_type": "code",
   "execution_count": 14,
   "metadata": {},
   "outputs": [
    {
     "data": {
      "text/plain": [
       "11×11 Array{Float64,2}:\n",
       " 3.0  2.0  0.0  9.0  0.0  0.0  0.0  0.0  0.0  0.0  0.0\n",
       " 0.0  0.0  2.0  4.0  0.0  0.0  0.0  0.0  0.0  0.0  0.0\n",
       " 0.0  0.0  0.0  6.0  9.0  0.0  0.0  0.0  0.0  0.0  0.0\n",
       " 0.0  0.0  0.0  0.0  0.0  3.0  0.0  0.0  0.0  0.0  0.0\n",
       " 0.0  0.0  0.0  0.0  0.0  1.0  2.0  0.0  0.0  0.0  0.0\n",
       " 0.0  0.0  0.0  0.0  0.0  0.0  1.0  2.0  0.0  0.0  0.0\n",
       " 0.0  0.0  0.0  0.0  0.0  0.0  0.0  0.0  5.0  0.0  0.0\n",
       " 0.0  0.0  0.0  0.0  0.0  0.0  0.0  0.0  5.0  6.0  9.0\n",
       " 0.0  0.0  0.0  0.0  0.0  0.0  0.0  0.0  0.0  2.0  0.0\n",
       " 0.0  0.0  0.0  0.0  0.0  0.0  0.0  0.0  0.0  0.0  5.0\n",
       " 0.0  0.0  0.0  0.0  0.0  0.0  0.0  0.0  0.0  0.0  3.0"
      ]
     },
     "execution_count": 14,
     "metadata": {},
     "output_type": "execute_result"
    }
   ],
   "source": [
    "dm"
   ]
  },
  {
   "cell_type": "markdown",
   "metadata": {},
   "source": [
    "Now create optimization problem to find critical path from the starting point to the end point."
   ]
  },
  {
   "cell_type": "code",
   "execution_count": 73,
   "metadata": {},
   "outputs": [
    {
     "data": {
      "text/latex": [
       "$$ \\begin{alignat*}{1}\\text{feasibility}\\\\\n",
       "\\text{Subject to} \\quad\\end{alignat*}\n",
       " $$"
      ],
      "text/plain": [
       "A JuMP Model\n",
       "Feasibility problem with:\n",
       "Variables: 0\n",
       "Model mode: AUTOMATIC\n",
       "CachingOptimizer state: EMPTY_OPTIMIZER\n",
       "Solver name: GLPK"
      ]
     },
     "execution_count": 73,
     "metadata": {},
     "output_type": "execute_result"
    }
   ],
   "source": [
    "prob = Model(with_optimizer(GLPK.Optimizer))"
   ]
  },
  {
   "cell_type": "markdown",
   "metadata": {},
   "source": [
    "Definition of variables which mean path from i-th element to j-th element."
   ]
  },
  {
   "cell_type": "code",
   "execution_count": 74,
   "metadata": {},
   "outputs": [
    {
     "data": {
      "text/plain": [
       "11×11 Array{VariableRef,2}:\n",
       " fm[1,1]   fm[1,2]   fm[1,3]   fm[1,4]   …  fm[1,9]   fm[1,10]   fm[1,11]\n",
       " fm[2,1]   fm[2,2]   fm[2,3]   fm[2,4]      fm[2,9]   fm[2,10]   fm[2,11]\n",
       " fm[3,1]   fm[3,2]   fm[3,3]   fm[3,4]      fm[3,9]   fm[3,10]   fm[3,11]\n",
       " fm[4,1]   fm[4,2]   fm[4,3]   fm[4,4]      fm[4,9]   fm[4,10]   fm[4,11]\n",
       " fm[5,1]   fm[5,2]   fm[5,3]   fm[5,4]      fm[5,9]   fm[5,10]   fm[5,11]\n",
       " fm[6,1]   fm[6,2]   fm[6,3]   fm[6,4]   …  fm[6,9]   fm[6,10]   fm[6,11]\n",
       " fm[7,1]   fm[7,2]   fm[7,3]   fm[7,4]      fm[7,9]   fm[7,10]   fm[7,11]\n",
       " fm[8,1]   fm[8,2]   fm[8,3]   fm[8,4]      fm[8,9]   fm[8,10]   fm[8,11]\n",
       " fm[9,1]   fm[9,2]   fm[9,3]   fm[9,4]      fm[9,9]   fm[9,10]   fm[9,11]\n",
       " fm[10,1]  fm[10,2]  fm[10,3]  fm[10,4]     fm[10,9]  fm[10,10]  fm[10,11]\n",
       " fm[11,1]  fm[11,2]  fm[11,3]  fm[11,4]  …  fm[11,9]  fm[11,10]  fm[11,11]"
      ]
     },
     "execution_count": 74,
     "metadata": {},
     "output_type": "execute_result"
    }
   ],
   "source": [
    "@variable(prob, fm[1:rr,1:rr], Bin)"
   ]
  },
  {
   "cell_type": "markdown",
   "metadata": {},
   "source": [
    "Each point must have one destination only."
   ]
  },
  {
   "cell_type": "code",
   "execution_count": 75,
   "metadata": {},
   "outputs": [],
   "source": [
    "for i=1:rr \n",
    "    @constraint(prob, sum(fm[i,:]) <= 1)\n",
    "end"
   ]
  },
  {
   "cell_type": "markdown",
   "metadata": {},
   "source": [
    "There is a one node that connects to next point."
   ]
  },
  {
   "cell_type": "code",
   "execution_count": 82,
   "metadata": {},
   "outputs": [],
   "source": [
    "for i = 1:rr\n",
    "    @constraint(prob, sum(fm[:,i]) <= 1)\n",
    "end"
   ]
  },
  {
   "cell_type": "code",
   "execution_count": 77,
   "metadata": {},
   "outputs": [],
   "source": [
    "for i = 1:rr, j = 1:rr\n",
    "    if dm[i,j] == 0.0\n",
    "        @constraint(prob, fm[i,j] == 0.0 )\n",
    "    end\n",
    "end"
   ]
  },
  {
   "cell_type": "code",
   "execution_count": 78,
   "metadata": {},
   "outputs": [
    {
     "data": {
      "text/latex": [
       "$$ 3 fm_{1,1} + 2 fm_{1,2} + 9 fm_{1,4} + 2 fm_{2,3} + 4 fm_{2,4} + 6 fm_{3,4} + 9 fm_{3,5} + 3 fm_{4,6} + fm_{5,6} + 2 fm_{5,7} + fm_{6,7} + 2 fm_{6,8} + 5 fm_{7,9} + 5 fm_{8,9} + 6 fm_{8,10} + 9 fm_{8,11} + 2 fm_{9,10} + 5 fm_{10,11} + 3 fm_{11,11} $$"
      ],
      "text/plain": [
       "3 fm[1,1] + 2 fm[1,2] + 9 fm[1,4] + 2 fm[2,3] + 4 fm[2,4] + 6 fm[3,4] + 9 fm[3,5] + 3 fm[4,6] + fm[5,6] + 2 fm[5,7] + fm[6,7] + 2 fm[6,8] + 5 fm[7,9] + 5 fm[8,9] + 6 fm[8,10] + 9 fm[8,11] + 2 fm[9,10] + 5 fm[10,11] + 3 fm[11,11]"
      ]
     },
     "execution_count": 78,
     "metadata": {},
     "output_type": "execute_result"
    }
   ],
   "source": [
    "@objective(prob, Max, sum(fm[i,j]*dm[i,j] for i=1:rr,j=1:rr) )"
   ]
  },
  {
   "cell_type": "code",
   "execution_count": 83,
   "metadata": {},
   "outputs": [],
   "source": [
    "optimize!(prob)"
   ]
  },
  {
   "cell_type": "code",
   "execution_count": 84,
   "metadata": {},
   "outputs": [
    {
     "data": {
      "text/plain": [
       "OPTIMAL::TerminationStatusCode = 1"
      ]
     },
     "execution_count": 84,
     "metadata": {},
     "output_type": "execute_result"
    }
   ],
   "source": [
    "termination_status(prob)"
   ]
  },
  {
   "cell_type": "code",
   "execution_count": 85,
   "metadata": {},
   "outputs": [
    {
     "data": {
      "text/plain": [
       "11×11 Array{Float64,2}:\n",
       " 0.0  0.0  0.0  1.0  0.0  0.0  0.0  0.0  0.0  0.0  0.0\n",
       " 0.0  0.0  1.0  0.0  0.0  0.0  0.0  0.0  0.0  0.0  0.0\n",
       " 0.0  0.0  0.0  0.0  1.0  0.0  0.0  0.0  0.0  0.0  0.0\n",
       " 0.0  0.0  0.0  0.0  0.0  1.0  0.0  0.0  0.0  0.0  0.0\n",
       " 0.0  0.0  0.0  0.0  0.0  0.0  1.0  0.0  0.0  0.0  0.0\n",
       " 0.0  0.0  0.0  0.0  0.0  0.0  0.0  1.0  0.0  0.0  0.0\n",
       " 0.0  0.0  0.0  0.0  0.0  0.0  0.0  0.0  1.0  0.0  0.0\n",
       " 0.0  0.0  0.0  0.0  0.0  0.0  0.0  0.0  0.0  1.0  0.0\n",
       " 0.0  0.0  0.0  0.0  0.0  0.0  0.0  0.0  0.0  0.0  0.0\n",
       " 0.0  0.0  0.0  0.0  0.0  0.0  0.0  0.0  0.0  0.0  1.0\n",
       " 0.0  0.0  0.0  0.0  0.0  0.0  0.0  0.0  0.0  0.0  0.0"
      ]
     },
     "execution_count": 85,
     "metadata": {},
     "output_type": "execute_result"
    }
   ],
   "source": [
    "dmat = value.(fm)"
   ]
  },
  {
   "cell_type": "code",
   "execution_count": 86,
   "metadata": {},
   "outputs": [
    {
     "data": {
      "text/plain": [
       "43.0"
      ]
     },
     "execution_count": 86,
     "metadata": {},
     "output_type": "execute_result"
    }
   ],
   "source": [
    "objective_value(prob)"
   ]
  },
  {
   "cell_type": "markdown",
   "metadata": {},
   "source": [
    "Find optimized path."
   ]
  },
  {
   "cell_type": "code",
   "execution_count": 87,
   "metadata": {},
   "outputs": [
    {
     "data": {
      "text/plain": [
       "11-element Array{Int64,1}:\n",
       "  5\n",
       "  4\n",
       "  6\n",
       "  7\n",
       "  8\n",
       "  9\n",
       " 10\n",
       " 11\n",
       "  2\n",
       " 12\n",
       "  2"
      ]
     },
     "execution_count": 87,
     "metadata": {},
     "output_type": "execute_result"
    }
   ],
   "source": [
    "cid = [ findmax(x)[2] + 1 for x in eachrow(dmat) ]"
   ]
  },
  {
   "cell_type": "code",
   "execution_count": 88,
   "metadata": {},
   "outputs": [
    {
     "data": {
      "text/plain": [
       "find_path (generic function with 1 method)"
      ]
     },
     "execution_count": 88,
     "metadata": {},
     "output_type": "execute_result"
    }
   ],
   "source": [
    "function find_path(xx,vv)\n",
    "    pth = []\n",
    "    pt = [ findmax(x)[2]+1 for x in eachrow(dmat) ]\n",
    "    r1,c1 = size(xx)\n",
    "\n",
    "    t = [1]\n",
    "    i1 = 1\n",
    "    pt2 = copy(pt)\n",
    "    while length(pt2) > 0\n",
    "        if i1 <= r1\n",
    "            i2 = pt[i1]\n",
    "            xv = vv[i1,i2-1]\n",
    "        else\n",
    "            xv = 0.0\n",
    "        end\n",
    "\n",
    "        if xv > 0.0\n",
    "            push!(t, i2)\n",
    "            ii = findfirst(pt2 .== i2)\n",
    "            if !isnothing(ii)\n",
    "                i1 = popat!(pt2,ii)\n",
    "            else\n",
    "                push!(pth,t)\n",
    "                i1 = popfirst!(pt2)\n",
    "                t = [i1]\n",
    "            end\n",
    "        else\n",
    "            push!(pth,t)\n",
    "            i1 = popfirst!(pt2)\n",
    "            t = [i1]\n",
    "        end\n",
    "    end\n",
    "    if ! (t in pth)\n",
    "        push!(pth, t)\n",
    "    end\n",
    "    pth\n",
    "end"
   ]
  },
  {
   "cell_type": "code",
   "execution_count": 89,
   "metadata": {},
   "outputs": [
    {
     "data": {
      "text/plain": [
       "5-element Array{Any,1}:\n",
       " [1, 5, 8, 11]\n",
       " [4, 7, 10, 12]\n",
       " [6, 9]\n",
       " [2, 4]\n",
       " [2]"
      ]
     },
     "execution_count": 89,
     "metadata": {},
     "output_type": "execute_result"
    }
   ],
   "source": [
    "pa = find_path(dmat,dm)"
   ]
  },
  {
   "cell_type": "code",
   "execution_count": 90,
   "metadata": {},
   "outputs": [
    {
     "data": {
      "text/plain": [
       "11×11 Array{Float64,2}:\n",
       " 3.0  2.0  0.0  9.0  0.0  0.0  0.0  0.0  0.0  0.0  0.0\n",
       " 0.0  0.0  2.0  4.0  0.0  0.0  0.0  0.0  0.0  0.0  0.0\n",
       " 0.0  0.0  0.0  6.0  9.0  0.0  0.0  0.0  0.0  0.0  0.0\n",
       " 0.0  0.0  0.0  0.0  0.0  3.0  0.0  0.0  0.0  0.0  0.0\n",
       " 0.0  0.0  0.0  0.0  0.0  1.0  2.0  0.0  0.0  0.0  0.0\n",
       " 0.0  0.0  0.0  0.0  0.0  0.0  1.0  2.0  0.0  0.0  0.0\n",
       " 0.0  0.0  0.0  0.0  0.0  0.0  0.0  0.0  5.0  0.0  0.0\n",
       " 0.0  0.0  0.0  0.0  0.0  0.0  0.0  0.0  5.0  6.0  9.0\n",
       " 0.0  0.0  0.0  0.0  0.0  0.0  0.0  0.0  0.0  2.0  0.0\n",
       " 0.0  0.0  0.0  0.0  0.0  0.0  0.0  0.0  0.0  0.0  5.0\n",
       " 0.0  0.0  0.0  0.0  0.0  0.0  0.0  0.0  0.0  0.0  3.0"
      ]
     },
     "execution_count": 90,
     "metadata": {},
     "output_type": "execute_result"
    }
   ],
   "source": [
    "dm"
   ]
  },
  {
   "cell_type": "code",
   "execution_count": 91,
   "metadata": {},
   "outputs": [
    {
     "data": {
      "text/plain": [
       "find_node_prev (generic function with 1 method)"
      ]
     },
     "execution_count": 91,
     "metadata": {},
     "output_type": "execute_result"
    }
   ],
   "source": [
    "function find_node_prev(k, xm)\n",
    "    v = xm[:,k-1]\n",
    "    x, i = findmax(v)\n",
    "    i\n",
    "end"
   ]
  },
  {
   "cell_type": "code",
   "execution_count": 92,
   "metadata": {},
   "outputs": [
    {
     "data": {
      "text/plain": [
       "find_node_next (generic function with 1 method)"
      ]
     },
     "execution_count": 92,
     "metadata": {},
     "output_type": "execute_result"
    }
   ],
   "source": [
    "function find_node_next(k, xm)\n",
    "    v = xm[k, :]\n",
    "    x, i = findmax(v)\n",
    "    i + 1\n",
    "end"
   ]
  },
  {
   "cell_type": "code",
   "execution_count": 93,
   "metadata": {},
   "outputs": [
    {
     "data": {
      "text/plain": [
       "reconnect! (generic function with 1 method)"
      ]
     },
     "execution_count": 93,
     "metadata": {},
     "output_type": "execute_result"
    }
   ],
   "source": [
    "function reconnect!(lst,xm)\n",
    "    s = lst[1]\n",
    "    e = lst[end]\n",
    "    r,c = size(xm)\n",
    "    \n",
    "    while s > 1\n",
    "        ss = find_node_prev(s, xm)\n",
    "        pushfirst!(lst,ss)\n",
    "        s = ss\n",
    "    end\n",
    "    \n",
    "    while e <= c\n",
    "        ee = find_node_next(e, xm)\n",
    "        push!(lst,ee)\n",
    "        e = ee\n",
    "    end\n",
    "\n",
    "    lst\n",
    "end"
   ]
  },
  {
   "cell_type": "code",
   "execution_count": 94,
   "metadata": {},
   "outputs": [
    {
     "data": {
      "text/plain": [
       "4-element Array{Array{Int64,1},1}:\n",
       " [1, 5, 8, 11, 12]\n",
       " [1, 2, 4, 7, 10, 12]\n",
       " [1, 3, 6, 9, 11, 12]\n",
       " [1, 2, 5, 8, 12]"
      ]
     },
     "execution_count": 94,
     "metadata": {},
     "output_type": "execute_result"
    }
   ],
   "source": [
    "pa2 = unique([ reconnect!(v,dm) for v in pa ])"
   ]
  },
  {
   "cell_type": "code",
   "execution_count": 95,
   "metadata": {},
   "outputs": [
    {
     "data": {
      "text/plain": [
       "calc_dist (generic function with 1 method)"
      ]
     },
     "execution_count": 95,
     "metadata": {},
     "output_type": "execute_result"
    }
   ],
   "source": [
    "function calc_dist(lst, xm)\n",
    "    d = 0.0\n",
    "    for i = 1:(length(lst)-1)\n",
    "        d += xm[ lst[i] , lst[i+1]-1]\n",
    "    end\n",
    "    d\n",
    "end"
   ]
  },
  {
   "cell_type": "code",
   "execution_count": 96,
   "metadata": {},
   "outputs": [
    {
     "data": {
      "text/plain": [
       "4-element Array{Float64,1}:\n",
       " 20.0\n",
       " 18.0\n",
       " 18.0\n",
       " 18.0"
      ]
     },
     "execution_count": 96,
     "metadata": {},
     "output_type": "execute_result"
    }
   ],
   "source": [
    "ds = [calc_dist(t,dm) for t in pa2]"
   ]
  },
  {
   "cell_type": "code",
   "execution_count": null,
   "metadata": {},
   "outputs": [],
   "source": []
  }
 ],
 "metadata": {
  "kernelspec": {
   "display_name": "Julia 1.5.0",
   "language": "julia",
   "name": "julia-1.5"
  },
  "language_info": {
   "file_extension": ".jl",
   "mimetype": "application/julia",
   "name": "julia",
   "version": "1.5.0"
  }
 },
 "nbformat": 4,
 "nbformat_minor": 4
}
